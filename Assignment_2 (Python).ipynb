{
 "cells": [
  {
   "cell_type": "markdown",
   "id": "8ecdd2fa",
   "metadata": {},
   "source": [
    "#                                                      Assignment_2 (Python)\n",
    "        \n",
    "## 1- Write a Python program to add an item to a tuple."
   ]
  },
  {
   "cell_type": "code",
   "execution_count": 2,
   "id": "12fd3893",
   "metadata": {},
   "outputs": [
    {
     "name": "stdout",
     "output_type": "stream",
     "text": [
      "(1, 'One', 2, 'Two', 3, 'Three', 4, 'Four')\n"
     ]
    }
   ],
   "source": [
    "A = ( 1 , \"One\" , 2 , \"Two\" )\n",
    "B = ( 3 , \"Three\" , 4 , \"Four\" )\n",
    "\n",
    "C = A + B\n",
    "print(C)"
   ]
  },
  {
   "cell_type": "markdown",
   "id": "f07d23c0",
   "metadata": {},
   "source": [
    "## 2. Write a Python program to sum all the items in a list."
   ]
  },
  {
   "cell_type": "code",
   "execution_count": 9,
   "id": "26eeca02",
   "metadata": {},
   "outputs": [
    {
     "name": "stdout",
     "output_type": "stream",
     "text": [
      "The sum of the list is: 10 \n"
     ]
    }
   ],
   "source": [
    "D = [1 , 2 , 3 , 4]\n",
    "print(f\"The sum of the list is: {sum(D)} \")"
   ]
  },
  {
   "cell_type": "markdown",
   "id": "ce56c9d9",
   "metadata": {},
   "source": [
    "## 3. Write a Python program to multiply all the items in a list."
   ]
  },
  {
   "cell_type": "code",
   "execution_count": 68,
   "id": "7609e8c0",
   "metadata": {},
   "outputs": [
    {
     "name": "stdout",
     "output_type": "stream",
     "text": [
      "The multiply is 24\n"
     ]
    }
   ],
   "source": [
    "E = [1 , 2 , 3 ,4]\n",
    "result = 1 ## don't forget to make it starts with 1 not 0 ya yahia\n",
    "for F in E:\n",
    "    result *= F\n",
    "\n",
    "print(f\"The multiply is {result}\")"
   ]
  },
  {
   "cell_type": "markdown",
   "id": "553f62f1",
   "metadata": {},
   "source": [
    "## 4. Write a Python program to get the smallest number from a list."
   ]
  },
  {
   "cell_type": "code",
   "execution_count": 11,
   "id": "7dce7d98",
   "metadata": {},
   "outputs": [
    {
     "name": "stdout",
     "output_type": "stream",
     "text": [
      "1\n"
     ]
    }
   ],
   "source": [
    "A = [ 5 , 7 , 3 , 1 , 4 , 8]\n",
    "small = A[0]\n",
    "for B in A:\n",
    "    if B < small:\n",
    "        small = B    \n",
    "print(small)"
   ]
  },
  {
   "cell_type": "markdown",
   "id": "f21c3eb9",
   "metadata": {},
   "source": [
    "## 5. Write a Python program to get the largest number from a list."
   ]
  },
  {
   "cell_type": "code",
   "execution_count": 12,
   "id": "465918ff",
   "metadata": {},
   "outputs": [
    {
     "name": "stdout",
     "output_type": "stream",
     "text": [
      "8\n"
     ]
    }
   ],
   "source": [
    "A = [ 5 , 7 , 3 , 1 , 4 , 8]\n",
    "large = A[0]\n",
    "for B in A:\n",
    "    if B > large:\n",
    "        large = B    \n",
    "print(large)"
   ]
  },
  {
   "cell_type": "markdown",
   "id": "d3123e57",
   "metadata": {},
   "source": [
    "## 6. Write a Python program to count the number of strings from a given list of strings.\n"
   ]
  },
  {
   "cell_type": "code",
   "execution_count": 16,
   "id": "69875f8f",
   "metadata": {},
   "outputs": [
    {
     "name": "stdout",
     "output_type": "stream",
     "text": [
      "the number of strings is 6\n"
     ]
    }
   ],
   "source": [
    "H = [\"one\",\"two\",\"three\",\"four\",\"five\",\"six\"]\n",
    "number_of_strings = len(H)\n",
    "print(f\"the number of strings is {number_of_strings}\")"
   ]
  },
  {
   "cell_type": "markdown",
   "id": "6feffb60",
   "metadata": {},
   "source": [
    "## 7. Write a Python program to clone or copy a list."
   ]
  },
  {
   "cell_type": "code",
   "execution_count": 17,
   "id": "dca5ebc2",
   "metadata": {},
   "outputs": [
    {
     "name": "stdout",
     "output_type": "stream",
     "text": [
      "[1, 'one', 2, 'two', 3, 'amit']\n"
     ]
    }
   ],
   "source": [
    "list1 = [ 1 , \"one\" , 2 , \"two\" , 3 , \"amit\"]\n",
    "list2 = list1.copy()\n",
    "print(list2)"
   ]
  },
  {
   "cell_type": "markdown",
   "id": "ff25814f",
   "metadata": {},
   "source": [
    "## 8. Write a Python program to remove item(s) from a given set.\n"
   ]
  },
  {
   "cell_type": "code",
   "execution_count": 42,
   "id": "003fa975",
   "metadata": {
    "scrolled": true
   },
   "outputs": [
    {
     "name": "stdout",
     "output_type": "stream",
     "text": [
      "the new tuple after remove item is: {2, 'one'}\n"
     ]
    }
   ],
   "source": [
    "set1 = { 1 , \"one\" , 2 , \"two\"}\n",
    "set2 = { 1 , \"two\"}\n",
    "set1_after_remove_item = set1 - set2\n",
    "\n",
    "print(f\"the new tuple after remove item is: {set1_after_remove_item}\")"
   ]
  },
  {
   "cell_type": "markdown",
   "id": "f01af9c6",
   "metadata": {},
   "source": [
    "## 9. Write a Python program to check if a set is a subset of another set."
   ]
  },
  {
   "cell_type": "code",
   "execution_count": 48,
   "id": "013c20bc",
   "metadata": {},
   "outputs": [
    {
     "name": "stdout",
     "output_type": "stream",
     "text": [
      "the set4 is a subset of set3\n"
     ]
    }
   ],
   "source": [
    "set3 = { 1 , 2 , 3 , 6 , 9 ,13}\n",
    "set4 = { 1 , 2 }\n",
    "if set4.issubset(set3):\n",
    "    print(\"the set4 is a subset of set3\")\n",
    "else:\n",
    "    print(\"the set4 isnot a subset of set3\")"
   ]
  },
  {
   "cell_type": "markdown",
   "id": "7d676689",
   "metadata": {},
   "source": [
    "## 10. Write a Python program to remove all elements from a given set."
   ]
  },
  {
   "cell_type": "code",
   "execution_count": 55,
   "id": "70739dca",
   "metadata": {
    "scrolled": true
   },
   "outputs": [
    {
     "name": "stdout",
     "output_type": "stream",
     "text": [
      "set()\n"
     ]
    }
   ],
   "source": [
    "set6 = { 1 , 2 , 3 , 4}\n",
    "set6.clear()\n",
    "\n",
    "print(set6)"
   ]
  },
  {
   "cell_type": "markdown",
   "id": "ad469ee7",
   "metadata": {},
   "source": [
    "## 11. Write a Python program to find the maximum and minimum values in a set.\n"
   ]
  },
  {
   "cell_type": "code",
   "execution_count": 58,
   "id": "3cfaf02a",
   "metadata": {
    "scrolled": true
   },
   "outputs": [
    {
     "name": "stdout",
     "output_type": "stream",
     "text": [
      "1\n"
     ]
    }
   ],
   "source": [
    "set7 = { 4 , 2 , 5 , 1 , 7}\n",
    "set8 = min(set7)\n",
    "print(set8)"
   ]
  },
  {
   "cell_type": "markdown",
   "id": "69e7e1f1",
   "metadata": {},
   "source": [
    "## 12. Write a Python program to find the index of an item in a tuple.\n"
   ]
  },
  {
   "cell_type": "code",
   "execution_count": 65,
   "id": "475df146",
   "metadata": {},
   "outputs": [
    {
     "name": "stdout",
     "output_type": "stream",
     "text": [
      "2\n"
     ]
    }
   ],
   "source": [
    "tuple1 = ( 1 , 2 , 4 , 5 , 6)\n",
    "int1 = tuple1.index(4)\n",
    "print(int1)"
   ]
  },
  {
   "cell_type": "markdown",
   "id": "9bed3ee0",
   "metadata": {},
   "source": [
    "## 13. Write a Python program to convert a tuple to a dictionary.\n"
   ]
  },
  {
   "cell_type": "code",
   "execution_count": 69,
   "id": "20bb7773",
   "metadata": {},
   "outputs": [
    {
     "name": "stdout",
     "output_type": "stream",
     "text": [
      "the dictionary of this tuple is : {1: 'one', 2: 'two', 3: 'three'} \n"
     ]
    }
   ],
   "source": [
    "tuple9 = ((1 , \"one\"),(2 , \"two\"),(3 , \"three\"))\n",
    "print(f\"the dictionary of this tuple is : {dict(tuple9)} \")"
   ]
  },
  {
   "cell_type": "markdown",
   "id": "56a9587e",
   "metadata": {},
   "source": [
    "## 14. Write a Python program to unzip a list of tuples into individual lists.\n"
   ]
  },
  {
   "cell_type": "code",
   "execution_count": 71,
   "id": "1c2207fd",
   "metadata": {},
   "outputs": [
    {
     "name": "stdout",
     "output_type": "stream",
     "text": [
      "[((1, 'one'),), ((2, 'two'),), ((3, 'three'),)]\n"
     ]
    }
   ],
   "source": [
    "list_of_tuples = [(1,\"one\"),(2,\"two\"),(3,\"three\")]\n",
    "ziplist = zip(list_of_tuples)\n",
    "print(list(ziplist))"
   ]
  },
  {
   "cell_type": "markdown",
   "id": "0b4ec429",
   "metadata": {},
   "source": [
    "## 15. Write a Python program to reverse a tuple.\n"
   ]
  },
  {
   "cell_type": "code",
   "execution_count": 79,
   "id": "ff07a9eb",
   "metadata": {},
   "outputs": [
    {
     "name": "stdout",
     "output_type": "stream",
     "text": [
      "('three', 3, 'two', 2, 'one', 1)\n"
     ]
    }
   ],
   "source": [
    "tuple10 = ( 1 , \"one\" , 2 , \"two\" , 3 , \"three\")\n",
    "tuple11 = reversed(tuple10)\n",
    "print(tuple(tuple11))"
   ]
  },
  {
   "cell_type": "markdown",
   "id": "3a52cb1b",
   "metadata": {},
   "source": [
    "## 16. Write a Python program to convert a list of tuples into a dictionary.\n"
   ]
  },
  {
   "cell_type": "code",
   "execution_count": 81,
   "id": "2b9ee60a",
   "metadata": {},
   "outputs": [
    {
     "name": "stdout",
     "output_type": "stream",
     "text": [
      "the dictionary of this list is : {1: 'one', 2: 'two', 3: 'three'} \n"
     ]
    }
   ],
   "source": [
    "list6 = [(1 , \"one\"),(2 , \"two\"),(3 , \"three\")]\n",
    "print(f\"the dictionary of this list is : {dict(list6)} \")"
   ]
  },
  {
   "cell_type": "markdown",
   "id": "0c4aca38",
   "metadata": {},
   "source": [
    "## 17. Write a Python program to replace the last value of tuples in a list.\n"
   ]
  },
  {
   "cell_type": "code",
   "execution_count": 94,
   "id": "7107aafa",
   "metadata": {},
   "outputs": [
    {
     "name": "stdout",
     "output_type": "stream",
     "text": [
      "[5, 6]\n"
     ]
    }
   ],
   "source": [
    "tuple12 = ( 1 , 2 , 3 , 4 , (5,6) )\n",
    "A = list(tuple12)\n",
    "B = A[-1]\n",
    "C = list(B)\n",
    "print(C)"
   ]
  },
  {
   "cell_type": "markdown",
   "id": "7d182acb",
   "metadata": {},
   "source": [
    "## 18. Write a Python program to sort a tuple by its float element."
   ]
  },
  {
   "cell_type": "code",
   "execution_count": 102,
   "id": "5685b934",
   "metadata": {},
   "outputs": [
    {
     "name": "stdout",
     "output_type": "stream",
     "text": [
      "[1.0, 2.0, 3.0, 4.0, 5.0, 8.0]\n"
     ]
    }
   ],
   "source": [
    "tuple13 = (1.0 , 2.0 , 3.0 , 8.0 , 5.0 , 4.0)\n",
    "A = list(tuple13)\n",
    "A.sort()\n",
    "print(A)"
   ]
  }
 ],
 "metadata": {
  "kernelspec": {
   "display_name": "Python 3 (ipykernel)",
   "language": "python",
   "name": "python3"
  },
  "language_info": {
   "codemirror_mode": {
    "name": "ipython",
    "version": 3
   },
   "file_extension": ".py",
   "mimetype": "text/x-python",
   "name": "python",
   "nbconvert_exporter": "python",
   "pygments_lexer": "ipython3",
   "version": "3.10.9"
  }
 },
 "nbformat": 4,
 "nbformat_minor": 5
}
